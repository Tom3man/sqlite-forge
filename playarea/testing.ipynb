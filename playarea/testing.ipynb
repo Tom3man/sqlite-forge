{
 "cells": [
  {
   "cell_type": "code",
   "execution_count": 1,
   "metadata": {},
   "outputs": [],
   "source": [
    "from typing import Dict, List\n",
    "\n",
    "from sqlite_forge.database import SqliteDatabase\n"
   ]
  },
  {
   "cell_type": "code",
   "execution_count": null,
   "metadata": {},
   "outputs": [],
   "source": []
  },
  {
   "cell_type": "code",
   "execution_count": 2,
   "metadata": {},
   "outputs": [],
   "source": [
    "class TestDataFrame(SqliteDatabase):\n",
    "\n",
    "    DEFAULT_PATH: str = \"ENDOLE\"\n",
    "    PRIMARY_KEY: List[str] = [\"COMPANY\"]\n",
    "    PARTITIONED_BY = [\"INC_DATE\"]\n",
    "    DEFAULT_SCHEMA: Dict[str, str] = {\n",
    "        \"INC_DATE\": \"VARCHAR(4)\",   \n",
    "        \"COMPANY\": \"VARCHAR(255)\",\n",
    "        \"STATUS\": \"VARCHAR(50)\",\n",
    "        \"NET_ASSETS\": \"INT\",\n",
    "        \"TURNOVER\": \"INT\",\n",
    "    }\n"
   ]
  },
  {
   "cell_type": "code",
   "execution_count": 3,
   "metadata": {},
   "outputs": [],
   "source": [
    "test = TestDataFrame(database_path='/home/tomf/Coding/Repositories/Tools/sqlite-forge')"
   ]
  },
  {
   "cell_type": "code",
   "execution_count": 4,
   "metadata": {},
   "outputs": [],
   "source": [
    "test.create_table()"
   ]
  },
  {
   "cell_type": "code",
   "execution_count": null,
   "metadata": {},
   "outputs": [],
   "source": []
  },
  {
   "cell_type": "code",
   "execution_count": null,
   "metadata": {},
   "outputs": [],
   "source": []
  },
  {
   "cell_type": "code",
   "execution_count": 6,
   "metadata": {},
   "outputs": [
    {
     "data": {
      "text/plain": [
       "['COMPANY', 'STATUS', 'NET_ASSETS', 'TURNOVER']"
      ]
     },
     "execution_count": 6,
     "metadata": {},
     "output_type": "execute_result"
    }
   ],
   "source": [
    "test.get_columns()"
   ]
  },
  {
   "cell_type": "code",
   "execution_count": null,
   "metadata": {},
   "outputs": [],
   "source": []
  }
 ],
 "metadata": {
  "kernelspec": {
   "display_name": "sqlite-forge-5rfhoyR_-py3.12",
   "language": "python",
   "name": "python3"
  },
  "language_info": {
   "codemirror_mode": {
    "name": "ipython",
    "version": 3
   },
   "file_extension": ".py",
   "mimetype": "text/x-python",
   "name": "python",
   "nbconvert_exporter": "python",
   "pygments_lexer": "ipython3",
   "version": "3.12.3"
  }
 },
 "nbformat": 4,
 "nbformat_minor": 2
}
